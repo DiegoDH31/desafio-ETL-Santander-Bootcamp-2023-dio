{
 "cells": [
  {
   "cell_type": "markdown",
   "id": "8fe52f76",
   "metadata": {},
   "source": [
    "# Desafio ETL\n",
    "\n",
    "Esse projeto recebe uma lista de clientes em formato CSV e cria uma tabela em EXCEL com uma mensagem de incentivo aos investimentos."
   ]
  },
  {
   "cell_type": "markdown",
   "id": "bb19962b",
   "metadata": {},
   "source": [
    "# Extract\n",
    "Extraindo a lista de usuário a partir do arquivo CSV"
   ]
  },
  {
   "cell_type": "code",
   "execution_count": 3,
   "id": "8aed79a8",
   "metadata": {},
   "outputs": [],
   "source": [
    "import pandas as pd\n",
    "\n",
    "df = pd.read_csv('Clients.csv')"
   ]
  },
  {
   "cell_type": "markdown",
   "id": "d4e7d3aa",
   "metadata": {},
   "source": [
    "# Transform\n",
    "Transformando o arquivo em um DataFrame"
   ]
  },
  {
   "cell_type": "code",
   "execution_count": 4,
   "id": "20ef9903",
   "metadata": {},
   "outputs": [
    {
     "data": {
      "text/html": [
       "<div>\n",
       "<style scoped>\n",
       "    .dataframe tbody tr th:only-of-type {\n",
       "        vertical-align: middle;\n",
       "    }\n",
       "\n",
       "    .dataframe tbody tr th {\n",
       "        vertical-align: top;\n",
       "    }\n",
       "\n",
       "    .dataframe thead th {\n",
       "        text-align: right;\n",
       "    }\n",
       "</style>\n",
       "<table border=\"1\" class=\"dataframe\">\n",
       "  <thead>\n",
       "    <tr style=\"text-align: right;\">\n",
       "      <th></th>\n",
       "      <th>id</th>\n",
       "      <th>name</th>\n",
       "      <th>salary</th>\n",
       "    </tr>\n",
       "  </thead>\n",
       "  <tbody>\n",
       "    <tr>\n",
       "      <th>0</th>\n",
       "      <td>1</td>\n",
       "      <td>Diego</td>\n",
       "      <td>1.5</td>\n",
       "    </tr>\n",
       "    <tr>\n",
       "      <th>1</th>\n",
       "      <td>2</td>\n",
       "      <td>Claysson</td>\n",
       "      <td>1.0</td>\n",
       "    </tr>\n",
       "    <tr>\n",
       "      <th>2</th>\n",
       "      <td>3</td>\n",
       "      <td>Larissa</td>\n",
       "      <td>2.5</td>\n",
       "    </tr>\n",
       "    <tr>\n",
       "      <th>3</th>\n",
       "      <td>4</td>\n",
       "      <td>Bilene</td>\n",
       "      <td>1.0</td>\n",
       "    </tr>\n",
       "    <tr>\n",
       "      <th>4</th>\n",
       "      <td>5</td>\n",
       "      <td>Fulano</td>\n",
       "      <td>1.5</td>\n",
       "    </tr>\n",
       "    <tr>\n",
       "      <th>5</th>\n",
       "      <td>6</td>\n",
       "      <td>Joao</td>\n",
       "      <td>2.0</td>\n",
       "    </tr>\n",
       "    <tr>\n",
       "      <th>6</th>\n",
       "      <td>7</td>\n",
       "      <td>Maria</td>\n",
       "      <td>1.8</td>\n",
       "    </tr>\n",
       "    <tr>\n",
       "      <th>7</th>\n",
       "      <td>8</td>\n",
       "      <td>Jose</td>\n",
       "      <td>4.0</td>\n",
       "    </tr>\n",
       "  </tbody>\n",
       "</table>\n",
       "</div>"
      ],
      "text/plain": [
       "   id      name  salary\n",
       "0   1     Diego     1.5\n",
       "1   2  Claysson     1.0\n",
       "2   3   Larissa     2.5\n",
       "3   4    Bilene     1.0\n",
       "4   5    Fulano     1.5\n",
       "5   6      Joao     2.0\n",
       "6   7     Maria     1.8\n",
       "7   8      Jose     4.0"
      ]
     },
     "execution_count": 4,
     "metadata": {},
     "output_type": "execute_result"
    }
   ],
   "source": [
    "df"
   ]
  },
  {
   "cell_type": "code",
   "execution_count": 5,
   "id": "d70965d9",
   "metadata": {},
   "outputs": [
    {
     "data": {
      "text/html": [
       "<div>\n",
       "<style scoped>\n",
       "    .dataframe tbody tr th:only-of-type {\n",
       "        vertical-align: middle;\n",
       "    }\n",
       "\n",
       "    .dataframe tbody tr th {\n",
       "        vertical-align: top;\n",
       "    }\n",
       "\n",
       "    .dataframe thead th {\n",
       "        text-align: right;\n",
       "    }\n",
       "</style>\n",
       "<table border=\"1\" class=\"dataframe\">\n",
       "  <thead>\n",
       "    <tr style=\"text-align: right;\">\n",
       "      <th></th>\n",
       "      <th>id</th>\n",
       "      <th>name</th>\n",
       "      <th>salary</th>\n",
       "      <th>mensagem</th>\n",
       "    </tr>\n",
       "  </thead>\n",
       "  <tbody>\n",
       "    <tr>\n",
       "      <th>0</th>\n",
       "      <td>1</td>\n",
       "      <td>Diego</td>\n",
       "      <td>1.5</td>\n",
       "      <td>Diego Investir pode garantir um bom futuro</td>\n",
       "    </tr>\n",
       "    <tr>\n",
       "      <th>1</th>\n",
       "      <td>2</td>\n",
       "      <td>Claysson</td>\n",
       "      <td>1.0</td>\n",
       "      <td>Claysson Investir pode garantir um bom futuro</td>\n",
       "    </tr>\n",
       "    <tr>\n",
       "      <th>2</th>\n",
       "      <td>3</td>\n",
       "      <td>Larissa</td>\n",
       "      <td>2.5</td>\n",
       "      <td>Larissa Investir pode garantir um bom futuro</td>\n",
       "    </tr>\n",
       "    <tr>\n",
       "      <th>3</th>\n",
       "      <td>4</td>\n",
       "      <td>Bilene</td>\n",
       "      <td>1.0</td>\n",
       "      <td>Bilene Investir pode garantir um bom futuro</td>\n",
       "    </tr>\n",
       "    <tr>\n",
       "      <th>4</th>\n",
       "      <td>5</td>\n",
       "      <td>Fulano</td>\n",
       "      <td>1.5</td>\n",
       "      <td>Fulano Investir pode garantir um bom futuro</td>\n",
       "    </tr>\n",
       "    <tr>\n",
       "      <th>5</th>\n",
       "      <td>6</td>\n",
       "      <td>Joao</td>\n",
       "      <td>2.0</td>\n",
       "      <td>Joao Investir pode garantir um bom futuro</td>\n",
       "    </tr>\n",
       "    <tr>\n",
       "      <th>6</th>\n",
       "      <td>7</td>\n",
       "      <td>Maria</td>\n",
       "      <td>1.8</td>\n",
       "      <td>Maria Investir pode garantir um bom futuro</td>\n",
       "    </tr>\n",
       "    <tr>\n",
       "      <th>7</th>\n",
       "      <td>8</td>\n",
       "      <td>Jose</td>\n",
       "      <td>4.0</td>\n",
       "      <td>Jose Investir pode garantir um bom futuro</td>\n",
       "    </tr>\n",
       "  </tbody>\n",
       "</table>\n",
       "</div>"
      ],
      "text/plain": [
       "   id      name  salary                                       mensagem\n",
       "0   1     Diego     1.5     Diego Investir pode garantir um bom futuro\n",
       "1   2  Claysson     1.0  Claysson Investir pode garantir um bom futuro\n",
       "2   3   Larissa     2.5   Larissa Investir pode garantir um bom futuro\n",
       "3   4    Bilene     1.0    Bilene Investir pode garantir um bom futuro\n",
       "4   5    Fulano     1.5    Fulano Investir pode garantir um bom futuro\n",
       "5   6      Joao     2.0      Joao Investir pode garantir um bom futuro\n",
       "6   7     Maria     1.8     Maria Investir pode garantir um bom futuro\n",
       "7   8      Jose     4.0      Jose Investir pode garantir um bom futuro"
      ]
     },
     "execution_count": 5,
     "metadata": {},
     "output_type": "execute_result"
    }
   ],
   "source": [
    "nomes_clientes = df['name'].tolist()\n",
    "\n",
    " \n",
    "df['mensagem'] = df['name'].apply(lambda name: name + ' Investir pode garantir um bom futuro' if name else None)\n",
    "\n",
    "df"
   ]
  },
  {
   "cell_type": "markdown",
   "id": "00189891",
   "metadata": {},
   "source": [
    "# Load\n",
    "Criando um arquivo em Excel com a inserção das novas informações."
   ]
  },
  {
   "cell_type": "code",
   "execution_count": 6,
   "id": "669bc495",
   "metadata": {},
   "outputs": [
    {
     "name": "stdout",
     "output_type": "stream",
     "text": [
      "Arquivo Excel \"clients new.xlsx\" criado com sucesso.\n"
     ]
    }
   ],
   "source": [
    "new_arquivo = 'clients new.xlsx'\n",
    "\n",
    "df.to_excel(new_arquivo, index=False)\n",
    "\n",
    "\n",
    "print(f'Arquivo Excel \"{new_arquivo}\" criado com sucesso.')"
   ]
  }
 ],
 "metadata": {
  "kernelspec": {
   "display_name": "Python 3 (ipykernel)",
   "language": "python",
   "name": "python3"
  },
  "language_info": {
   "codemirror_mode": {
    "name": "ipython",
    "version": 3
   },
   "file_extension": ".py",
   "mimetype": "text/x-python",
   "name": "python",
   "nbconvert_exporter": "python",
   "pygments_lexer": "ipython3",
   "version": "3.11.4"
  }
 },
 "nbformat": 4,
 "nbformat_minor": 5
}
